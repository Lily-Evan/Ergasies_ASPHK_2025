{
  "nbformat": 4,
  "nbformat_minor": 0,
  "metadata": {
    "colab": {
      "provenance": []
    },
    "kernelspec": {
      "name": "python3",
      "display_name": "Python 3"
    },
    "language_info": {
      "name": "python"
    },
    "widgets": {
      "application/vnd.jupyter.widget-state+json": {
        "bd2ae1229dce470b9eae6dafcb8c2a3d": {
          "model_module": "@jupyter-widgets/controls",
          "model_name": "VBoxModel",
          "model_module_version": "1.5.0",
          "state": {
            "_dom_classes": [],
            "_model_module": "@jupyter-widgets/controls",
            "_model_module_version": "1.5.0",
            "_model_name": "VBoxModel",
            "_view_count": null,
            "_view_module": "@jupyter-widgets/controls",
            "_view_module_version": "1.5.0",
            "_view_name": "VBoxView",
            "box_style": "",
            "children": [
              "IPY_MODEL_28dca17e650143968ec90f407bc9ec61",
              "IPY_MODEL_1468a3d89c5b4718b035c25f1c47c7ff",
              "IPY_MODEL_ba6dd88db6fc4c788af8f7ef59984bfc",
              "IPY_MODEL_95b0bf6b24574579ad35e581e86a0100",
              "IPY_MODEL_ce904145ccfd45ec9dbb5aaf6a9887e1",
              "IPY_MODEL_e72b15394c964a73847c47efec4a1499"
            ],
            "layout": "IPY_MODEL_f96b05a75ddf4aa986d796b8d20d2bda"
          }
        },
        "28dca17e650143968ec90f407bc9ec61": {
          "model_module": "@jupyter-widgets/controls",
          "model_name": "ToggleButtonsModel",
          "model_module_version": "1.5.0",
          "state": {
            "_dom_classes": [],
            "_model_module": "@jupyter-widgets/controls",
            "_model_module_version": "1.5.0",
            "_model_name": "ToggleButtonsModel",
            "_options_labels": [
              "1D",
              "2D"
            ],
            "_view_count": null,
            "_view_module": "@jupyter-widgets/controls",
            "_view_module_version": "1.5.0",
            "_view_name": "ToggleButtonsView",
            "button_style": "",
            "description": "Διάσταση:",
            "description_tooltip": null,
            "disabled": false,
            "icons": [],
            "index": 1,
            "layout": "IPY_MODEL_63308bc63d44410bac51d20d31db91a8",
            "style": "IPY_MODEL_6fb60ab99d6e4857bffa051745bcdeee",
            "tooltips": []
          }
        },
        "1468a3d89c5b4718b035c25f1c47c7ff": {
          "model_module": "@jupyter-widgets/controls",
          "model_name": "DropdownModel",
          "model_module_version": "1.5.0",
          "state": {
            "_dom_classes": [],
            "_model_module": "@jupyter-widgets/controls",
            "_model_module_version": "1.5.0",
            "_model_name": "DropdownModel",
            "_options_labels": [
              "Rule 30",
              "Game of Life"
            ],
            "_view_count": null,
            "_view_module": "@jupyter-widgets/controls",
            "_view_module_version": "1.5.0",
            "_view_name": "DropdownView",
            "description": "Κανόνας:",
            "description_tooltip": null,
            "disabled": false,
            "index": 1,
            "layout": "IPY_MODEL_180e62c0b8264b4786155aeb71d0f8d8",
            "style": "IPY_MODEL_74984d53d1cb431fb568e6cf4d9fba7f"
          }
        },
        "ba6dd88db6fc4c788af8f7ef59984bfc": {
          "model_module": "@jupyter-widgets/controls",
          "model_name": "IntSliderModel",
          "model_module_version": "1.5.0",
          "state": {
            "_dom_classes": [],
            "_model_module": "@jupyter-widgets/controls",
            "_model_module_version": "1.5.0",
            "_model_name": "IntSliderModel",
            "_view_count": null,
            "_view_module": "@jupyter-widgets/controls",
            "_view_module_version": "1.5.0",
            "_view_name": "IntSliderView",
            "continuous_update": true,
            "description": "Μέγεθος:",
            "description_tooltip": null,
            "disabled": false,
            "layout": "IPY_MODEL_81585eab8bf344c2a3c52d6da8b50483",
            "max": 200,
            "min": 10,
            "orientation": "horizontal",
            "readout": true,
            "readout_format": "d",
            "step": 1,
            "style": "IPY_MODEL_23d682e874184fa5a116285b714f6b99",
            "value": 50
          }
        },
        "95b0bf6b24574579ad35e581e86a0100": {
          "model_module": "@jupyter-widgets/controls",
          "model_name": "IntSliderModel",
          "model_module_version": "1.5.0",
          "state": {
            "_dom_classes": [],
            "_model_module": "@jupyter-widgets/controls",
            "_model_module_version": "1.5.0",
            "_model_name": "IntSliderModel",
            "_view_count": null,
            "_view_module": "@jupyter-widgets/controls",
            "_view_module_version": "1.5.0",
            "_view_name": "IntSliderView",
            "continuous_update": true,
            "description": "Βήματα:",
            "description_tooltip": null,
            "disabled": false,
            "layout": "IPY_MODEL_d0f2f3f83ad04684aa8b4e373a746131",
            "max": 100,
            "min": 1,
            "orientation": "horizontal",
            "readout": true,
            "readout_format": "d",
            "step": 1,
            "style": "IPY_MODEL_1dfe5a0366644f6480fb128d36859fd6",
            "value": 20
          }
        },
        "ce904145ccfd45ec9dbb5aaf6a9887e1": {
          "model_module": "@jupyter-widgets/controls",
          "model_name": "ButtonModel",
          "model_module_version": "1.5.0",
          "state": {
            "_dom_classes": [],
            "_model_module": "@jupyter-widgets/controls",
            "_model_module_version": "1.5.0",
            "_model_name": "ButtonModel",
            "_view_count": null,
            "_view_module": "@jupyter-widgets/controls",
            "_view_module_version": "1.5.0",
            "_view_name": "ButtonView",
            "button_style": "",
            "description": "Εκκίνηση",
            "disabled": false,
            "icon": "",
            "layout": "IPY_MODEL_57e4cf6af7cf436d960117a99b85518c",
            "style": "IPY_MODEL_e59450dc79c84cc6b058ff257c174297",
            "tooltip": ""
          }
        },
        "e72b15394c964a73847c47efec4a1499": {
          "model_module": "@jupyter-widgets/output",
          "model_name": "OutputModel",
          "model_module_version": "1.0.0",
          "state": {
            "_dom_classes": [],
            "_model_module": "@jupyter-widgets/output",
            "_model_module_version": "1.0.0",
            "_model_name": "OutputModel",
            "_view_count": null,
            "_view_module": "@jupyter-widgets/output",
            "_view_module_version": "1.0.0",
            "_view_name": "OutputView",
            "layout": "IPY_MODEL_5e9a4992b10f46658cec17ce28e69cae",
            "msg_id": "",
            "outputs": [
              {
                "output_type": "display_data",
                "data": {
                  "text/plain": "<Figure size 500x500 with 1 Axes>",
                  "image/png": "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\n"
                },
                "metadata": {}
              },
              {
                "output_type": "display_data",
                "data": {
                  "text/plain": "<Figure size 500x500 with 1 Axes>",
                  "image/png": "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\n"
                },
                "metadata": {}
              },
              {
                "output_type": "display_data",
                "data": {
                  "text/plain": "<Figure size 500x500 with 1 Axes>",
                  "image/png": "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\n"
                },
                "metadata": {}
              },
              {
                "output_type": "display_data",
                "data": {
                  "text/plain": "<Figure size 500x500 with 1 Axes>",
                  "image/png": "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\n"
                },
                "metadata": {}
              },
              {
                "output_type": "display_data",
                "data": {
                  "text/plain": "<Figure size 500x500 with 1 Axes>",
                  "image/png": "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\n"
                },
                "metadata": {}
              },
              {
                "output_type": "display_data",
                "data": {
                  "text/plain": "<Figure size 500x500 with 1 Axes>",
                  "image/png": "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\n"
                },
                "metadata": {}
              },
              {
                "output_type": "display_data",
                "data": {
                  "text/plain": "<Figure size 500x500 with 1 Axes>",
                  "image/png": "iVBORw0KGgoAAAANSUhEUgAAAZQAAAGrCAYAAADn6WHYAAAAOnRFWHRTb2Z0d2FyZQBNYXRwbG90bGliIHZlcnNpb24zLjEwLjAsIGh0dHBzOi8vbWF0cGxvdGxpYi5vcmcvlHJYcgAAAAlwSFlzAAAPYQAAD2EBqD+naQAAFUNJREFUeJzt3WuMXVXZB/BnWqC3KTaN1hYRKXaooUZRY6QK7YSLb4z0U0u9FLxELlbFxEgqGqMoMagxeKsXYpoaU/1AQQuJUTveEgpFjcCHQk0LqCC1WGw7Kk1Lyuz3A2nfd2x7zpnuZ8/e58zvl/QDc/bZe5119jl/1sx61uoriqIIAChpUt0NAKA3CBQAUggUAFIIFABSCBQAUggUAFIIFABSCBQAUggUAFIIFEjw4IMPxqmnnhrf//73624K1EagMC7+8Ic/xEc+8pFYtGhRzJgxI84666xYuXJl7Nix45hjBwcHo6+vL/r6+mLSpElx+umnx8KFC+Oqq66KoaGhStp30003Hb3mkevOmzcvLr/88rj//vtbPvf555+Pq6++OlatWhXve9/7Kmlfp/7973/HmjVrYv78+TFlypR42cteFitWrIgDBw7U2i4mhlPqbgATw5e+9KW4995744orrojXvOY1sXv37li7dm28/vWvj/vvvz9e/epXjzr+zDPPjFtuuSUiIp599tl49NFH48c//nFs2LAhVq5cGRs2bIhTTz01vZ3f+c53or+/P0ZGRuLJJ5+M733ve7FkyZL4/e9/H+eff/5xn3PrrbfGwYMH49vf/nZ6e8ZieHg4li5dGn/729/i2muvjQULFsSePXvinnvuiUOHDsX06dNrbR8TQAHj4N577y0OHTo06mc7duwopkyZUqxatWrUz5cuXVosWrTomHMcPny4+NCHPlRERLFmzZrU9n32s58tIqLYs2fPqJ9v27atiIjiU5/61HGfNzIyUnz5y18utm/fntqek7F69epi1qxZxeOPP153U5ig/MqLcfHmN785TjvttFE/GxgYiEWLFsX27ds7OsfkyZPjG9/4Rpx33nmxdu3aGB4erqKpo8ydOzciIk455f8G87/97W+jr68vbr/99vjCF74QX//61+P888+PSy65JB599NFRzz/77LOP+2uwwcHBGBwcHPWzJ554IpYvXx79/f0xZ86cWL16dRw6dCi+9rWvxZlnntmynfv374/169fHtddeG/Pnz4/nnnsuDh06dHIvGk6SQKE2RVHE008/HS9+8Ys7fs7kyZPjXe96Vxw4cCC2bNmS3qa9e/fGM888E//4xz/iwQcfjGuuuSamTp0aK1euPObYL37xi7Fp06a44YYb4sYbb4ytW7fGlVdeeVLX3bdvX1x00UWxZcuW+MxnPhNXX311rFu3Lm666ab4yU9+EpdffnnL52/ZsiUOHjwYCxYsiBUrVsT06dNj2rRp8Za3vCUeeuihk2oTjJW/oVCbH/7wh/HUU0/F5z//+TE978jfWx577LH0Ni1cuHDUf8+aNSs2bdoUixYtOubYgwcPxkMPPXR05DVr1qz42Mc+Fo888kicd955Y7ru2rVr44knnoihoaG49NJLIyLiwIEDsW7duti7d2+sWbOm5fN37twZERGf/OQn45WvfGX84Ac/iOHh4fjc5z4XF198cTz88MMxb968MbUJxsoIhVr86U9/ig9/+MOxePHieO973zum5/b390fECzOast15550xNDQUmzdvjvXr18e5554by5cvj/vuu++YY9///veP+jXekiVLIiLi8ccfH/N1f/3rX8cZZ5wRl1xyydGfLVu2LPbs2RNTpkwZ9fPj+c9//hMREX19ffGrX/0q3v3ud8fq1atj06ZNsW/fvvjWt7415jbBWBmhMO52794db3/72+NFL3pR3HHHHTF58uQxPf/Il+fMmTNbHnPkuIgXflX2kpe8pO25lyxZMupXcCtWrIiBgYG4/vrr449//OOoY88666xR/z179uyIiPjnP//Z/kX8l127dsWCBQuir6/v6M9e97rXRUTEpZdeGlOnTm35/GnTpkXECyF0JHAjIi644IKYP3/+cQMRshmhMK6Gh4fjbW97W+zfvz9+/vOfxxlnnDHmc2zbti0iIhYsWHDCY77yla/EvHnzjv574xvfeFLt7e/vjze96U3xwAMPxLPPPjvqsRMFYdHBrtr/fczUqVNHhUlExPTp0+O00047OvJp5Ug/vvSlLz3msTlz5sS+ffvangPKMkJh3Bw8eDCWLVsWO3bsiF/+8pdj/jtDxAtFhD/60Y9i+vTpceGFF57wuPe85z2jHj/yf/An4/DhwxHxwqhnxowZY37+8X419/TTTx+dQRYR8fKXvzweeeSRUcf84he/iOeeey6eeuqpttd4wxveEBFx3GN37doVr3rVq8babBgzgcK4eP755+Md73hHbN26Ne66665YvHjxSZ3jox/9aGzfvj1uvPHGOP3000947DnnnBPnnHNOmSZHxAuzvu67776YO3duzJkz56TOsXXr1jh48ODRX1s9/PDDsXPnzlGjiaVLl8ZPf/rTuOeee+Kiiy6KiIjbbrstIiJ+97vftb3GwoUL47WvfW3cdddd8cwzzxz9td3mzZvjySefjOuvv/6k2g5jIVAYFx//+Mfj7rvvjmXLlsXevXtjw4YNox7/7+m2w8PDR485cODA0Ur5xx57LN75znfGzTffXEk777jjjujv74+iKGLXrl2xbt262LdvX3z3u9895ldSndq/f39cfPHFsWrVqvjXv/4V3/zmN2PmzJmxbdu2uO222+K6666La665Jm655ZZYvnx53HDDDfHXv/41fvazn8Xy5cvjzjvvjJtvvjlWrVrVMiS/+tWvxmWXXRYXXnhhXHfddTE8PBy33nprnHvuubF69eqT7RLoXL11lUwUS5cuLSLihP9aHdvf318MDAwUV155ZbF58+ZK2nekUv7//5sxY0axePHi4vbbbx917G9+85siIoqNGzeO+vmf//znIiKK9evXH/3ZK17ximLVqlXFBz/4wWLmzJnF7Nmzi09/+tPF3XffXcycObN461vfevTYBx54oBgcHCymTZtWzJw5s/jEJz5RHD58uPjABz5QTJkyZdR5T2RoaKi44IILiqlTpxazZ88urrrqquLvf/97qb6BTvUVRQd/QQTa+stf/hLz58+P9evXH62OP/vss2NwcNAqxEwIZnkBkEKgAJBCoACQwt9QAEhhhAJACoECQAqBAkCKjivlR3YPtHz8f844v2xboGv9YtdDLR/v1s9Hr74uxm5oZGPbY4xQAEghUABIIVAASCFQAEghUABIIVAASCFQAEjR8Vpe6lAAqlVn3U+7a0+au7PtOYxQAEghUABIIVAASCFQAEghUABIIVAASNHx8vWmBUN3ajcdtBWf+4mj3Xs9NNL+HEYoAKQQKACkECgApBAoAKQQKACkECgApBAoAKTouA6F7tKq9kBtwfirshakqUueu8+6S5l79AgjFABSCBQAUggUAFIIFABSCBQAUggUAFIIFABS9BVFUXRy4MjugZaPm3M+vsrUHtRZt9Bk9g0ZuzrrULxfx6rye2HS3J1tr2+EAkAKgQJACoECQAqBAkAKgQJACoECQIqOl68vs4R2r07Ro7s0ebp0mc9Pna+rzDTUMucmX7v+Hhppfw4jFABSCBQAUggUAFIIFABSCBQAUggUAFIIFABSdFyH0o454+NLXVBvKfOelK1TKcO91Cxl3o+M+8QIBYAUAgWAFAIFgBQCBYAUAgWAFAIFgBQCBYAUaXUo6h6aRZ/3jrL7ndR1L5S9bpX1M92q7L1Q5nvafigAjBuBAkAKgQJACoECQAqBAkAKgQJACoECQIqO61DMCc+ndocMZT6bTb7Pmty2Vqp8P8rufVN1nxqhAJBCoACQQqAAkEKgAJBCoACQQqAAkCJt+fqmqnMaXZlr1z39rxeVnXJZ5bXrOrf7rLs0/f0yQgEghUABIIVAASCFQAEghUABIIVAASCFQAEgRV9RFEUnB47sHmj5eJmaiirVWWdSpSprKprcZ3XPs69D02sPaI4qP/dDIxvbnsMIBYAUAgWAFAIFgBQCBYAUAgWAFAIFgBQCBYAUaXUorXRrzURZTa0faGq7Iprdtqbq1n1cyqrrdU/Ue1QdCgDjRqAAkEKgAJBCoACQQqAAkEKgAJDilLobENG70+zqVOfS+q1M1CmXVerVPuvWcoI67/G6+8wIBYAUAgWAFAIFgBQCBYAUAgWAFAIFgBQCBYAUaXUovToXvpUqaz3KzmVv6vvR1HZFtO7zJre7qaqux6hyifkq6znqrhU5kYzvMyMUAFIIFABSCBQAUggUAFIIFABSCBQAUggUAFL0FUVRdHLgyO6Bk75IlfOyy167jG5td53q7LOmzv9vsjrrMbr1e6NX77OhkY1tjzFCASCFQAEghUABIIVAASCFQAEghUABIEUjlq+vc3pglZo8BbBb6dPx1eT+rqttZb+PqpySXPf7ZYQCQAqBAkAKgQJACoECQAqBAkAKgQJACoECQIqO61B6tVakjKqX5+ZYrfq0XX/q72PVuQS89+NY3f49aoQCQAqBAkAKgQJACoECQAqBAkAKgQJACoECQIqO61CqrKkoM/e6zrns3T5nvInUJuQrU7tT5T1e574iVWpqu9rJeK+NUABIIVAASCFQAEghUABIIVAASCFQAEghUABI0RX7obS6dq/OZe9V+vv46qrFKltf1ur5VZ673eNV3mfdfA+X6bOhkfbnN0IBIIVAASCFQAEghUABIIVAASCFQAEgRV9RFEUnB47sHmj5eJmpvVVOw6vz2tAETZ2S3K2avGVGlW0bGtnY9hgjFABSCBQAUggUAFIIFABSCBQAUggUAFIIFABSpC1fT/ew5P/YNbmeqaltq3rLi7peV1P7uxNV1wYZoQCQQqAAkEKgAJBCoACQQqAAkEKgAJBCoACQYlz2Q2mybp5T3kqr19Wtr6nJunXvj26+F5ra51XX39Rl0tyd7Y8Zh3YAMAEIFABSCBQAUggUAFIIFABSCBQAUnS8fH1TVT3tt8opflVO2Wx17m5dNrybVdln3ToNtUpN3k6glaq/r8qcf2ik/TFGKACkECgApBAoAKQQKACkECgApBAoAKQQKACkaEQdSp1LyE/EmoqJ+Jqrpk/HX5laqzrfr6beKxn1TEYoAKQQKACkECgApBAoAKQQKACkECgApBAoAKToK4qi6OTAkd0DLR/v5bnVJ9LuNde5LwJkcA8fq2yNS6vnN7nPhkY2tj3GCAWAFAIFgBQCBYAUAgWAFAIFgBQCBYAUHS9f3+TpbK2UbXdd047LXrdb3y+apcwU2CYvIV/l57qdKpfdr3uatxEKACkECgApBAoAKQQKACkECgApBAoAKQQKACk6rkOpUpPnq5e5drfWglT5fjT5vW6qptZMlH1unbVWTb3Pqu6zqhmhAJBCoACQQqAAkEKgAJBCoACQQqAAkEKgAJBiXOpQqlzjv6nzybuZPs1X5jNQ5Z4+Zc9d5d4e7dS990cdmt5uIxQAUggUAFIIFABSCBQAUggUAFIIFABSCBQAUvQVRVF0cuBlk65o+fhErBVp+t4EJ2L+/9jZx+X4JuLnvp1evVeGRja2PcYIBYAUAgWAFAIFgBQCBYAUAgWAFAIFgBTjsnx9WaYmjl2V/dKrfe4+G7umLl9f5ftlO44TM0IBIIVAASCFQAEghUABIIVAASCFQAEghUABIMW4LF9fVp1zs3v1dZVRZX1BnUvjV3ntOvusW++zdnrxs9nk99Ly9QCMG4ECQAqBAkAKgQJACoECQAqBAkAKgQJAikbUoTR574JuVWbPBTUTxypb89DU19VkZe6VKmtU2qlyP5Q6Pz/qUAAYNwIFgBQCBYAUAgWAFAIFgBQCBYAUp4zHRUyZHH9lplRW+X41eYn5blXn9Nqm9mlT2xVRrm1VTivOmGpthAJACoECQAqBAkAKgQJACoECQAqBAkAKgQJAirTl6+vSq/PoJ6oq60y6den8XlXnNgl1amqNWLtrT5q7s+05jFAASCFQAEghUABIIVAASCFQAEghUABIIVAASDEu+6GUNRH3wJio9TVlaknK9lmr53drf7bT5HqNdrq57Serytfc7h4fGml/DiMUAFIIFABSCBQAUggUAFIIFABSCBQAUjRi2nCdy1jXOR20zDTVbp0yWeV06Ik61bqMbr7Pmvp+teuzOqf+Vs0IBYAUAgWAFAIFgBQCBYAUAgWAFAIFgBQCBYAUjahDKaPJdSbtlKmpaPLrqos+yVemTmWivh+9WjfXCSMUAFIIFABSCBQAUggUAFIIFABSCBQAUggUAFKk1aFUucZ/t8517/Y55VUo+5rdC+OrW9vdZFXug1T3+2GEAkAKgQJACoECQAqBAkAKgQJACoECQAqBAkCKjutQysx/bvrc6bpUWbtTpypf10S9V+qiv/OV6dOm16kYoQCQQqAAkEKgAJBCoACQQqAAkEKgAJCi42nDvTzV7WT16rRfjlX2vS5zD3fr56OsMn3eq31SpYzvMyMUAFIIFABSCBQAUggUAFIIFABSCBQAUggUAFL0FUVRdHLgyO6Blo9XuXx9ncuhmws/cbR6r5t8j3arOr8XerVPy2jXn5Pm7mx7DiMUAFIIFABSCBQAUggUAFIIFABSCBQAUggUAFKk7YdSZg5/lcpeu0x9Dc1S574idX4GurVeY6LuA1OXdv05NNL+HEYoAKQQKACkECgApBAoAKQQKACkECgApOh4+frLJl1RdVtOqFunPdJdmjr1vclsLTG+yvZ3mdc9NLKx7TFGKACkECgApBAoAKQQKACkECgApBAoAKQQKACk6Hj5+l5liWw6UfVWBd16n5Vpd7s+nYh1Jt3OCAWAFAIFgBQCBYAUAgWAFAIFgBQCBYAUAgWAFF2xH0oZde7XQHexH0qzlKkRU1+Wz34oAIwbgQJACoECQAqBAkAKgQJACoECQIqeX77e9EA6VeU01F5dir3KqdZV9inVMEIBIIVAASCFQAEghUABIIVAASCFQAEghUABIEXPL18P3aCp2yzUuQx8ldfu1eXtq6x3snw9AONGoACQQqAAkEKgAJBCoACQQqAAkEKgAJAibT+UXt3voZWytQPd+rp7VZV7e7RTZi+WMppcj2E/lGM1/TUboQCQQqAAkEKgAJBCoACQQqAAkEKgAJBCoACQIq0ORU0FvaxsvUZT67S6+XPbzW0/kSbXBXXCCAWAFAIFgBQCBYAUAgWAFAIFgBQCBYAUadOGJ6KmT+EDuku3f6cYoQCQQqAAkEKgAJBCoACQQqAAkEKgAJBCoACQoq8oiqLuRgDQ/YxQAEghUABIIVAASCFQAEghUABIIVAASCFQAEghUABIIVAASPG/80Exzq8AXLMAAAAASUVORK5CYII=\n"
                },
                "metadata": {}
              },
              {
                "output_type": "display_data",
                "data": {
                  "text/plain": "<Figure size 500x500 with 1 Axes>",
                  "image/png": "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\n"
                },
                "metadata": {}
              },
              {
                "output_type": "display_data",
                "data": {
                  "text/plain": "<Figure size 500x500 with 1 Axes>",
                  "image/png": "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\n"
                },
                "metadata": {}
              },
              {
                "output_type": "display_data",
                "data": {
                  "text/plain": "<Figure size 500x500 with 1 Axes>",
                  "image/png": "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\n"
                },
                "metadata": {}
              },
              {
                "output_type": "display_data",
                "data": {
                  "text/plain": "<Figure size 500x500 with 1 Axes>",
                  "image/png": "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\n"
                },
                "metadata": {}
              },
              {
                "output_type": "display_data",
                "data": {
                  "text/plain": "<Figure size 500x500 with 1 Axes>",
                  "image/png": "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\n"
                },
                "metadata": {}
              },
              {
                "output_type": "display_data",
                "data": {
                  "text/plain": "<Figure size 500x500 with 1 Axes>",
                  "image/png": "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\n"
                },
                "metadata": {}
              },
              {
                "output_type": "display_data",
                "data": {
                  "text/plain": "<Figure size 500x500 with 1 Axes>",
                  "image/png": "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\n"
                },
                "metadata": {}
              },
              {
                "output_type": "display_data",
                "data": {
                  "text/plain": "<Figure size 500x500 with 1 Axes>",
                  "image/png": "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\n"
                },
                "metadata": {}
              },
              {
                "output_type": "display_data",
                "data": {
                  "text/plain": "<Figure size 500x500 with 1 Axes>",
                  "image/png": "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\n"
                },
                "metadata": {}
              },
              {
                "output_type": "display_data",
                "data": {
                  "text/plain": "<Figure size 500x500 with 1 Axes>",
                  "image/png": "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\n"
                },
                "metadata": {}
              },
              {
                "output_type": "display_data",
                "data": {
                  "text/plain": "<Figure size 500x500 with 1 Axes>",
                  "image/png": "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\n"
                },
                "metadata": {}
              },
              {
                "output_type": "display_data",
                "data": {
                  "text/plain": "<Figure size 500x500 with 1 Axes>",
                  "image/png": "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\n"
                },
                "metadata": {}
              },
              {
                "output_type": "display_data",
                "data": {
                  "text/plain": "<Figure size 500x500 with 1 Axes>",
                  "image/png": "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\n"
                },
                "metadata": {}
              },
              {
                "output_type": "display_data",
                "data": {
                  "text/plain": "<Figure size 500x500 with 1 Axes>",
                  "image/png": "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\n"
                },
                "metadata": {}
              }
            ]
          }
        },
        "f96b05a75ddf4aa986d796b8d20d2bda": {
          "model_module": "@jupyter-widgets/base",
          "model_name": "LayoutModel",
          "model_module_version": "1.2.0",
          "state": {
            "_model_module": "@jupyter-widgets/base",
            "_model_module_version": "1.2.0",
            "_model_name": "LayoutModel",
            "_view_count": null,
            "_view_module": "@jupyter-widgets/base",
            "_view_module_version": "1.2.0",
            "_view_name": "LayoutView",
            "align_content": null,
            "align_items": null,
            "align_self": null,
            "border": null,
            "bottom": null,
            "display": null,
            "flex": null,
            "flex_flow": null,
            "grid_area": null,
            "grid_auto_columns": null,
            "grid_auto_flow": null,
            "grid_auto_rows": null,
            "grid_column": null,
            "grid_gap": null,
            "grid_row": null,
            "grid_template_areas": null,
            "grid_template_columns": null,
            "grid_template_rows": null,
            "height": null,
            "justify_content": null,
            "justify_items": null,
            "left": null,
            "margin": null,
            "max_height": null,
            "max_width": null,
            "min_height": null,
            "min_width": null,
            "object_fit": null,
            "object_position": null,
            "order": null,
            "overflow": null,
            "overflow_x": null,
            "overflow_y": null,
            "padding": null,
            "right": null,
            "top": null,
            "visibility": null,
            "width": null
          }
        },
        "63308bc63d44410bac51d20d31db91a8": {
          "model_module": "@jupyter-widgets/base",
          "model_name": "LayoutModel",
          "model_module_version": "1.2.0",
          "state": {
            "_model_module": "@jupyter-widgets/base",
            "_model_module_version": "1.2.0",
            "_model_name": "LayoutModel",
            "_view_count": null,
            "_view_module": "@jupyter-widgets/base",
            "_view_module_version": "1.2.0",
            "_view_name": "LayoutView",
            "align_content": null,
            "align_items": null,
            "align_self": null,
            "border": null,
            "bottom": null,
            "display": null,
            "flex": null,
            "flex_flow": null,
            "grid_area": null,
            "grid_auto_columns": null,
            "grid_auto_flow": null,
            "grid_auto_rows": null,
            "grid_column": null,
            "grid_gap": null,
            "grid_row": null,
            "grid_template_areas": null,
            "grid_template_columns": null,
            "grid_template_rows": null,
            "height": null,
            "justify_content": null,
            "justify_items": null,
            "left": null,
            "margin": null,
            "max_height": null,
            "max_width": null,
            "min_height": null,
            "min_width": null,
            "object_fit": null,
            "object_position": null,
            "order": null,
            "overflow": null,
            "overflow_x": null,
            "overflow_y": null,
            "padding": null,
            "right": null,
            "top": null,
            "visibility": null,
            "width": null
          }
        },
        "6fb60ab99d6e4857bffa051745bcdeee": {
          "model_module": "@jupyter-widgets/controls",
          "model_name": "ToggleButtonsStyleModel",
          "model_module_version": "1.5.0",
          "state": {
            "_model_module": "@jupyter-widgets/controls",
            "_model_module_version": "1.5.0",
            "_model_name": "ToggleButtonsStyleModel",
            "_view_count": null,
            "_view_module": "@jupyter-widgets/base",
            "_view_module_version": "1.2.0",
            "_view_name": "StyleView",
            "button_width": "",
            "description_width": "",
            "font_weight": ""
          }
        },
        "180e62c0b8264b4786155aeb71d0f8d8": {
          "model_module": "@jupyter-widgets/base",
          "model_name": "LayoutModel",
          "model_module_version": "1.2.0",
          "state": {
            "_model_module": "@jupyter-widgets/base",
            "_model_module_version": "1.2.0",
            "_model_name": "LayoutModel",
            "_view_count": null,
            "_view_module": "@jupyter-widgets/base",
            "_view_module_version": "1.2.0",
            "_view_name": "LayoutView",
            "align_content": null,
            "align_items": null,
            "align_self": null,
            "border": null,
            "bottom": null,
            "display": null,
            "flex": null,
            "flex_flow": null,
            "grid_area": null,
            "grid_auto_columns": null,
            "grid_auto_flow": null,
            "grid_auto_rows": null,
            "grid_column": null,
            "grid_gap": null,
            "grid_row": null,
            "grid_template_areas": null,
            "grid_template_columns": null,
            "grid_template_rows": null,
            "height": null,
            "justify_content": null,
            "justify_items": null,
            "left": null,
            "margin": null,
            "max_height": null,
            "max_width": null,
            "min_height": null,
            "min_width": null,
            "object_fit": null,
            "object_position": null,
            "order": null,
            "overflow": null,
            "overflow_x": null,
            "overflow_y": null,
            "padding": null,
            "right": null,
            "top": null,
            "visibility": null,
            "width": null
          }
        },
        "74984d53d1cb431fb568e6cf4d9fba7f": {
          "model_module": "@jupyter-widgets/controls",
          "model_name": "DescriptionStyleModel",
          "model_module_version": "1.5.0",
          "state": {
            "_model_module": "@jupyter-widgets/controls",
            "_model_module_version": "1.5.0",
            "_model_name": "DescriptionStyleModel",
            "_view_count": null,
            "_view_module": "@jupyter-widgets/base",
            "_view_module_version": "1.2.0",
            "_view_name": "StyleView",
            "description_width": ""
          }
        },
        "81585eab8bf344c2a3c52d6da8b50483": {
          "model_module": "@jupyter-widgets/base",
          "model_name": "LayoutModel",
          "model_module_version": "1.2.0",
          "state": {
            "_model_module": "@jupyter-widgets/base",
            "_model_module_version": "1.2.0",
            "_model_name": "LayoutModel",
            "_view_count": null,
            "_view_module": "@jupyter-widgets/base",
            "_view_module_version": "1.2.0",
            "_view_name": "LayoutView",
            "align_content": null,
            "align_items": null,
            "align_self": null,
            "border": null,
            "bottom": null,
            "display": null,
            "flex": null,
            "flex_flow": null,
            "grid_area": null,
            "grid_auto_columns": null,
            "grid_auto_flow": null,
            "grid_auto_rows": null,
            "grid_column": null,
            "grid_gap": null,
            "grid_row": null,
            "grid_template_areas": null,
            "grid_template_columns": null,
            "grid_template_rows": null,
            "height": null,
            "justify_content": null,
            "justify_items": null,
            "left": null,
            "margin": null,
            "max_height": null,
            "max_width": null,
            "min_height": null,
            "min_width": null,
            "object_fit": null,
            "object_position": null,
            "order": null,
            "overflow": null,
            "overflow_x": null,
            "overflow_y": null,
            "padding": null,
            "right": null,
            "top": null,
            "visibility": null,
            "width": null
          }
        },
        "23d682e874184fa5a116285b714f6b99": {
          "model_module": "@jupyter-widgets/controls",
          "model_name": "SliderStyleModel",
          "model_module_version": "1.5.0",
          "state": {
            "_model_module": "@jupyter-widgets/controls",
            "_model_module_version": "1.5.0",
            "_model_name": "SliderStyleModel",
            "_view_count": null,
            "_view_module": "@jupyter-widgets/base",
            "_view_module_version": "1.2.0",
            "_view_name": "StyleView",
            "description_width": "",
            "handle_color": null
          }
        },
        "d0f2f3f83ad04684aa8b4e373a746131": {
          "model_module": "@jupyter-widgets/base",
          "model_name": "LayoutModel",
          "model_module_version": "1.2.0",
          "state": {
            "_model_module": "@jupyter-widgets/base",
            "_model_module_version": "1.2.0",
            "_model_name": "LayoutModel",
            "_view_count": null,
            "_view_module": "@jupyter-widgets/base",
            "_view_module_version": "1.2.0",
            "_view_name": "LayoutView",
            "align_content": null,
            "align_items": null,
            "align_self": null,
            "border": null,
            "bottom": null,
            "display": null,
            "flex": null,
            "flex_flow": null,
            "grid_area": null,
            "grid_auto_columns": null,
            "grid_auto_flow": null,
            "grid_auto_rows": null,
            "grid_column": null,
            "grid_gap": null,
            "grid_row": null,
            "grid_template_areas": null,
            "grid_template_columns": null,
            "grid_template_rows": null,
            "height": null,
            "justify_content": null,
            "justify_items": null,
            "left": null,
            "margin": null,
            "max_height": null,
            "max_width": null,
            "min_height": null,
            "min_width": null,
            "object_fit": null,
            "object_position": null,
            "order": null,
            "overflow": null,
            "overflow_x": null,
            "overflow_y": null,
            "padding": null,
            "right": null,
            "top": null,
            "visibility": null,
            "width": null
          }
        },
        "1dfe5a0366644f6480fb128d36859fd6": {
          "model_module": "@jupyter-widgets/controls",
          "model_name": "SliderStyleModel",
          "model_module_version": "1.5.0",
          "state": {
            "_model_module": "@jupyter-widgets/controls",
            "_model_module_version": "1.5.0",
            "_model_name": "SliderStyleModel",
            "_view_count": null,
            "_view_module": "@jupyter-widgets/base",
            "_view_module_version": "1.2.0",
            "_view_name": "StyleView",
            "description_width": "",
            "handle_color": null
          }
        },
        "57e4cf6af7cf436d960117a99b85518c": {
          "model_module": "@jupyter-widgets/base",
          "model_name": "LayoutModel",
          "model_module_version": "1.2.0",
          "state": {
            "_model_module": "@jupyter-widgets/base",
            "_model_module_version": "1.2.0",
            "_model_name": "LayoutModel",
            "_view_count": null,
            "_view_module": "@jupyter-widgets/base",
            "_view_module_version": "1.2.0",
            "_view_name": "LayoutView",
            "align_content": null,
            "align_items": null,
            "align_self": null,
            "border": null,
            "bottom": null,
            "display": null,
            "flex": null,
            "flex_flow": null,
            "grid_area": null,
            "grid_auto_columns": null,
            "grid_auto_flow": null,
            "grid_auto_rows": null,
            "grid_column": null,
            "grid_gap": null,
            "grid_row": null,
            "grid_template_areas": null,
            "grid_template_columns": null,
            "grid_template_rows": null,
            "height": null,
            "justify_content": null,
            "justify_items": null,
            "left": null,
            "margin": null,
            "max_height": null,
            "max_width": null,
            "min_height": null,
            "min_width": null,
            "object_fit": null,
            "object_position": null,
            "order": null,
            "overflow": null,
            "overflow_x": null,
            "overflow_y": null,
            "padding": null,
            "right": null,
            "top": null,
            "visibility": null,
            "width": null
          }
        },
        "e59450dc79c84cc6b058ff257c174297": {
          "model_module": "@jupyter-widgets/controls",
          "model_name": "ButtonStyleModel",
          "model_module_version": "1.5.0",
          "state": {
            "_model_module": "@jupyter-widgets/controls",
            "_model_module_version": "1.5.0",
            "_model_name": "ButtonStyleModel",
            "_view_count": null,
            "_view_module": "@jupyter-widgets/base",
            "_view_module_version": "1.2.0",
            "_view_name": "StyleView",
            "button_color": null,
            "font_weight": ""
          }
        },
        "5e9a4992b10f46658cec17ce28e69cae": {
          "model_module": "@jupyter-widgets/base",
          "model_name": "LayoutModel",
          "model_module_version": "1.2.0",
          "state": {
            "_model_module": "@jupyter-widgets/base",
            "_model_module_version": "1.2.0",
            "_model_name": "LayoutModel",
            "_view_count": null,
            "_view_module": "@jupyter-widgets/base",
            "_view_module_version": "1.2.0",
            "_view_name": "LayoutView",
            "align_content": null,
            "align_items": null,
            "align_self": null,
            "border": null,
            "bottom": null,
            "display": null,
            "flex": null,
            "flex_flow": null,
            "grid_area": null,
            "grid_auto_columns": null,
            "grid_auto_flow": null,
            "grid_auto_rows": null,
            "grid_column": null,
            "grid_gap": null,
            "grid_row": null,
            "grid_template_areas": null,
            "grid_template_columns": null,
            "grid_template_rows": null,
            "height": null,
            "justify_content": null,
            "justify_items": null,
            "left": null,
            "margin": null,
            "max_height": null,
            "max_width": null,
            "min_height": null,
            "min_width": null,
            "object_fit": null,
            "object_position": null,
            "order": null,
            "overflow": null,
            "overflow_x": null,
            "overflow_y": null,
            "padding": null,
            "right": null,
            "top": null,
            "visibility": null,
            "width": null
          }
        }
      }
    }
  },
  "cells": [
    {
      "cell_type": "code",
      "execution_count": 1,
      "metadata": {
        "colab": {
          "base_uri": "https://localhost:8080/"
        },
        "id": "sdtV4dnjFW7w",
        "outputId": "e69c9c75-cec1-4c94-f23c-650d4d182367"
      },
      "outputs": [
        {
          "output_type": "stream",
          "name": "stdout",
          "text": [
            "\u001b[?25l   \u001b[90m━━━━━━━━━━━━━━━━━━━━━━━━━━━━━━━━━━━━━━━━\u001b[0m \u001b[32m0.0/1.6 MB\u001b[0m \u001b[31m?\u001b[0m eta \u001b[36m-:--:--\u001b[0m\r\u001b[2K   \u001b[91m━━━━━━━━━━━\u001b[0m\u001b[91m╸\u001b[0m\u001b[90m━━━━━━━━━━━━━━━━━━━━━━━━━━━━\u001b[0m \u001b[32m0.5/1.6 MB\u001b[0m \u001b[31m15.9 MB/s\u001b[0m eta \u001b[36m0:00:01\u001b[0m\r\u001b[2K   \u001b[91m━━━━━━━━━━━━━━━━━━━━━━━━━━━\u001b[0m\u001b[91m╸\u001b[0m\u001b[90m━━━━━━━━━━━━\u001b[0m \u001b[32m1.1/1.6 MB\u001b[0m \u001b[31m17.1 MB/s\u001b[0m eta \u001b[36m0:00:01\u001b[0m\r\u001b[2K   \u001b[91m━━━━━━━━━━━━━━━━━━━━━━━━━━━━━━━━━━━━━━━\u001b[0m\u001b[91m╸\u001b[0m \u001b[32m1.6/1.6 MB\u001b[0m \u001b[31m16.8 MB/s\u001b[0m eta \u001b[36m0:00:01\u001b[0m\r\u001b[2K   \u001b[90m━━━━━━━━━━━━━━━━━━━━━━━━━━━━━━━━━━━━━━━━\u001b[0m \u001b[32m1.6/1.6 MB\u001b[0m \u001b[31m11.0 MB/s\u001b[0m eta \u001b[36m0:00:00\u001b[0m\n",
            "\u001b[?25h"
          ]
        }
      ],
      "source": [
        "!pip install ipywidgets --quiet\n",
        "import numpy as np\n",
        "import matplotlib.pyplot as plt\n",
        "from IPython.display import display\n",
        "import ipywidgets as widgets\n",
        "import matplotlib.colors as mcolors\n"
      ]
    },
    {
      "cell_type": "code",
      "source": [
        "def get_neighbors_1d(index, grid, radius):\n",
        "    n = len(grid)\n",
        "    return [grid[(index + i) % n] for i in range(-radius, radius+1)]\n",
        "\n",
        "def get_neighbors_2d(i, j, grid, neighborhood=\"Moore\"):\n",
        "    rows, cols = grid.shape\n",
        "    neighbors = []\n",
        "    offsets = []\n",
        "\n",
        "    if neighborhood == \"Moore\":\n",
        "        offsets = [(-1, -1), (-1, 0), (-1, 1),\n",
        "                   (0, -1),           (0, 1),\n",
        "                   (1, -1),  (1, 0),  (1, 1)]\n",
        "    elif neighborhood == \"VonNeumann\":\n",
        "        offsets = [(-1, 0), (0, -1), (0, 1), (1, 0)]\n",
        "\n",
        "    for dx, dy in offsets:\n",
        "        ni, nj = (i + dx) % rows, (j + dy) % cols\n",
        "        neighbors.append(grid[ni, nj])\n",
        "\n",
        "    return neighbors\n"
      ],
      "metadata": {
        "id": "Vz4LlP0RF2ho"
      },
      "execution_count": 2,
      "outputs": []
    },
    {
      "cell_type": "code",
      "source": [
        "def rule_30(neighborhood):\n",
        "    # neighborhood: list of [left, center, right]\n",
        "    binary = ''.join(str(int(x)) for x in neighborhood)\n",
        "    rule_bin = {\n",
        "        \"111\": 0, \"110\": 0, \"101\": 0, \"100\": 1,\n",
        "        \"011\": 1, \"010\": 1, \"001\": 1, \"000\": 0\n",
        "    }\n",
        "    return rule_bin.get(binary, 0)\n",
        "\n",
        "def game_of_life(cell, neighbors):\n",
        "    alive = sum(neighbors)\n",
        "    if cell == 1:\n",
        "        return 1 if 2 <= alive <= 3 else 0\n",
        "    else:\n",
        "        return 1 if alive == 3 else 0\n"
      ],
      "metadata": {
        "id": "g05XkuoxF6jS"
      },
      "execution_count": 3,
      "outputs": []
    },
    {
      "cell_type": "code",
      "source": [
        "def simulate_1d(grid, steps, rule_fn, radius):\n",
        "    history = [grid.copy()]\n",
        "    for _ in range(steps):\n",
        "        new_grid = np.zeros_like(grid)\n",
        "        for i in range(len(grid)):\n",
        "            n = get_neighbors_1d(i, grid, radius)\n",
        "            new_grid[i] = rule_fn(n)\n",
        "        history.append(new_grid)\n",
        "        grid = new_grid\n",
        "    return history\n",
        "\n",
        "def simulate_2d(grid, steps, rule_fn, neighborhood=\"Moore\"):\n",
        "    history = [grid.copy()]\n",
        "    for _ in range(steps):\n",
        "        new_grid = np.zeros_like(grid)\n",
        "        for i in range(grid.shape[0]):\n",
        "            for j in range(grid.shape[1]):\n",
        "                neighbors = get_neighbors_2d(i, j, grid, neighborhood)\n",
        "                new_grid[i, j] = rule_fn(grid[i, j], neighbors)\n",
        "        history.append(new_grid)\n",
        "        grid = new_grid\n",
        "    return history\n"
      ],
      "metadata": {
        "id": "ZKuv4LB7F8XU"
      },
      "execution_count": 4,
      "outputs": []
    },
    {
      "cell_type": "code",
      "source": [
        "def plot_1d(history):\n",
        "    data = np.array(history)\n",
        "    plt.figure(figsize=(12, 6))\n",
        "    plt.imshow(data, cmap='binary', interpolation='nearest')\n",
        "    plt.title(\"1D Cellular Automaton Evolution\")\n",
        "    plt.xlabel(\"Κυψέλες\")\n",
        "    plt.ylabel(\"Χρόνος\")\n",
        "    plt.show()\n",
        "\n",
        "def plot_2d(history):\n",
        "    for i, frame in enumerate(history):\n",
        "        plt.figure(figsize=(5, 5))\n",
        "        plt.imshow(frame, cmap='viridis')\n",
        "        plt.title(f\"2D - Βήμα {i}\")\n",
        "        plt.axis('off')\n",
        "        plt.show()\n"
      ],
      "metadata": {
        "id": "vCybHkHvF_Sc"
      },
      "execution_count": 5,
      "outputs": []
    },
    {
      "cell_type": "code",
      "source": [
        "def run_gui():\n",
        "    mode = widgets.ToggleButtons(options=[\"1D\", \"2D\"], description=\"Διάσταση:\")\n",
        "    rule = widgets.Dropdown(options=[\"Rule 30\", \"Game of Life\"], description=\"Κανόνας:\")\n",
        "    size = widgets.IntSlider(value=50, min=10, max=200, description=\"Μέγεθος:\")\n",
        "    steps = widgets.IntSlider(value=20, min=1, max=100, description=\"Βήματα:\")\n",
        "    button = widgets.Button(description=\"Εκκίνηση\")\n",
        "    output = widgets.Output()\n",
        "\n",
        "    def on_click(b):\n",
        "        with output:\n",
        "            output.clear_output()\n",
        "            if mode.value == \"1D\":\n",
        "                grid = np.zeros(size.value)\n",
        "                grid[size.value // 2] = 1\n",
        "                rule_fn = rule_30 if rule.value == \"Rule 30\" else lambda n: 0\n",
        "                history = simulate_1d(grid, steps.value, rule_fn, radius=1)\n",
        "                plot_1d(history)\n",
        "            else:\n",
        "                grid = np.random.choice([0, 1], size=(size.value, size.value))\n",
        "                rule_fn = game_of_life if rule.value == \"Game of Life\" else lambda c, n: 0\n",
        "                history = simulate_2d(grid, steps.value, rule_fn)\n",
        "                plot_2d(history)\n",
        "\n",
        "    button.on_click(on_click)\n",
        "    display(widgets.VBox([mode, rule, size, steps, button, output]))\n",
        "\n",
        "run_gui()\n"
      ],
      "metadata": {
        "colab": {
          "base_uri": "https://localhost:8080/",
          "height": 1000,
          "referenced_widgets": [
            "bd2ae1229dce470b9eae6dafcb8c2a3d",
            "28dca17e650143968ec90f407bc9ec61",
            "1468a3d89c5b4718b035c25f1c47c7ff",
            "ba6dd88db6fc4c788af8f7ef59984bfc",
            "95b0bf6b24574579ad35e581e86a0100",
            "ce904145ccfd45ec9dbb5aaf6a9887e1",
            "e72b15394c964a73847c47efec4a1499",
            "f96b05a75ddf4aa986d796b8d20d2bda",
            "63308bc63d44410bac51d20d31db91a8",
            "6fb60ab99d6e4857bffa051745bcdeee",
            "180e62c0b8264b4786155aeb71d0f8d8",
            "74984d53d1cb431fb568e6cf4d9fba7f",
            "81585eab8bf344c2a3c52d6da8b50483",
            "23d682e874184fa5a116285b714f6b99",
            "d0f2f3f83ad04684aa8b4e373a746131",
            "1dfe5a0366644f6480fb128d36859fd6",
            "57e4cf6af7cf436d960117a99b85518c",
            "e59450dc79c84cc6b058ff257c174297",
            "5e9a4992b10f46658cec17ce28e69cae"
          ]
        },
        "id": "uqNYVRdpGByF",
        "outputId": "650437cc-92dd-4887-a554-34296918f540"
      },
      "execution_count": 6,
      "outputs": [
        {
          "output_type": "display_data",
          "data": {
            "text/plain": [
              "VBox(children=(ToggleButtons(description='Διάσταση:', options=('1D', '2D'), value='1D'), Dropdown(description=…"
            ],
            "application/vnd.jupyter.widget-view+json": {
              "version_major": 2,
              "version_minor": 0,
              "model_id": "bd2ae1229dce470b9eae6dafcb8c2a3d"
            }
          },
          "metadata": {}
        }
      ]
    }
  ]
}